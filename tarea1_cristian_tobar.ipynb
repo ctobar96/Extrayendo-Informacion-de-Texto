{
 "cells": [
  {
   "cell_type": "markdown",
   "id": "1202dd2a",
   "metadata": {},
   "source": [
    "<div>\n",
    "<img src=\"https://i.ibb.co/v3CvVz9/udd-short.png\" width=\"150\"/>\n",
    "    <br>\n",
    "    <strong>Universidad del Desarrollo</strong><br>\n",
    "    <em>Magíster en Data Science</em><br>\n",
    "    <em>Profesora: María Paz Raveau Morales</em><br>\n",
    "\n",
    "</div>\n",
    "\n",
    "# **<center>TAREA 1 MINERÍA DE TEXTO (NLP)</center>**\n",
    "## <center>Extrayendo contenido útil y visualizando</center>\n",
    "*20 de julio de 2025*\n",
    "\n",
    "**Nombre Estudiante**: Cristian Tobar Morales  \n",
    "**Asignatura**: Procesamiento de Lenguaje Natural \n"
   ]
  },
  {
   "cell_type": "markdown",
   "id": "14d32582",
   "metadata": {},
   "source": [
    "01. Introducción\n",
    "02.\tObjetivo\n",
    "03.\tMetodología\n",
    "04.\tDescripción de la base de datos\n",
    "05.\tDesarrollo\n",
    "    *   Carga y análisis exploratorio\n",
    "        -   Librerías requeridas \n",
    "        -\tInformación inicial del dataset\n",
    "        -\tIngreso de los datos\n",
    "        -\tVisualización\n",
    "    *\tDataset de entrenamiento y prueba ##########333\n",
    "    *\tPreprocesamiento de los datos##########33\n",
    "\n",
    "06.\tAnálisis del desempeño del modelo\n",
    "    *   Resultados del modelo CNN\n",
    "    *   Resultados del modelo MLP\n",
    "07.\tConclusiones "
   ]
  },
  {
   "cell_type": "markdown",
   "id": "4ec5b21b",
   "metadata": {},
   "source": [
    "## **01. INTRODUCCIÓN**"
   ]
  },
  {
   "cell_type": "markdown",
   "id": "8efa87db",
   "metadata": {},
   "source": [
    "## **02. OBJETIVO**"
   ]
  },
  {
   "cell_type": "markdown",
   "id": "a19acae7",
   "metadata": {},
   "source": [
    "## **03. METODOLOGÍA**"
   ]
  },
  {
   "cell_type": "markdown",
   "id": "badf60e8",
   "metadata": {},
   "source": [
    "## **04. DESCRIPCIÓN DE LA BASE DE DATOS**"
   ]
  },
  {
   "cell_type": "markdown",
   "id": "979347e2",
   "metadata": {},
   "source": [
    "## **05. DESARROLLO**"
   ]
  },
  {
   "cell_type": "markdown",
   "id": "02fcd1c8",
   "metadata": {},
   "source": [
    "### **CARGA Y ANÁLISIS EXPLORATORIO DE LOS DATOS**"
   ]
  },
  {
   "cell_type": "markdown",
   "id": "668f6b0d",
   "metadata": {},
   "source": [
    "#### Librerías requeridas"
   ]
  }
 ],
 "metadata": {
  "language_info": {
   "name": "python"
  }
 },
 "nbformat": 4,
 "nbformat_minor": 5
}
